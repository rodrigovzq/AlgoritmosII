{
 "cells": [
  {
   "cell_type": "markdown",
   "source": [
    "### 3. Implementar en C una primitiva para el TDA cola void\\*\\* cola_multifondo(const cola_t \\* cola, size_t k) que reciba una cola y devuelva un arreglo con los últimos k elementos que saldrían de la cola (los del fondo), en el orden que saldrían de esta originalmente. En caso que la cola tenga menos de k elementos, rellenar con NULL al final de dicho arreglo. Por ejemplo, si la cola tuviera [1, 2, 3, 4, 5] (primer elemento el 1), con k = 3 deberíamos obtener un arreglo [3, 4, 5]. La cola no puede ser modificada durante la ejecución de la primitiva. Indicar y justificar el orden de la primitiva. La implementación del TDA es sobre un arreglo dinámico circular como la vista en clase, cuya estructura interna es:\n",
    "```c\n",
    "typedef struct cola { \n",
    "\tvoid** datos; \n",
    "\tsize_t capacidad; \n",
    "\tsize_t inicio; \n",
    "\tsize_t fin; \n",
    "} cola_t;\n",
    "```"
   ],
   "metadata": {}
  },
  {
   "cell_type": "code",
   "execution_count": 2,
   "source": [
    "from collections import deque\n",
    "class cola (object):\n",
    "    def __init__(self):\n",
    "        self.datos = [1,2,3,4,5]\n",
    "        self.inicio =0\n",
    "        self.fin= 4\n",
    "        self.capacidad = 5\n",
    "cola = cola()"
   ],
   "outputs": [],
   "metadata": {}
  },
  {
   "cell_type": "code",
   "execution_count": 15,
   "source": [
    "def cola_multifondo(cola, k):\n",
    "    datos_salida =[]\n",
    "\n",
    "    i = cola.capacidad-k if k < cola.capacidad else cola.inicio\n",
    "    while i!=cola.fin:\n",
    "        datos_salida.append(cola.datos[i])\n",
    "        i+=1\n",
    "        k-=1\n",
    "    datos_salida.append(cola.datos[i])\n",
    "    k -= 1\n",
    "    while k>0:\n",
    "        datos_salida.append(0)\n",
    "        k-=1\n",
    "\n",
    "    return datos_salida\n",
    "\n"
   ],
   "outputs": [],
   "metadata": {}
  },
  {
   "cell_type": "code",
   "execution_count": 19,
   "source": [
    "cola_multifondo(cola,7)"
   ],
   "outputs": [
    {
     "output_type": "execute_result",
     "data": {
      "text/plain": [
       "[1, 2, 3, 4, 5, 0, 0]"
      ]
     },
     "metadata": {},
     "execution_count": 19
    }
   ],
   "metadata": {}
  }
 ],
 "metadata": {
  "orig_nbformat": 4,
  "language_info": {
   "name": "python",
   "version": "3.9.0",
   "mimetype": "text/x-python",
   "codemirror_mode": {
    "name": "ipython",
    "version": 3
   },
   "pygments_lexer": "ipython3",
   "nbconvert_exporter": "python",
   "file_extension": ".py"
  },
  "kernelspec": {
   "name": "python3",
   "display_name": "Python 3.9.0 64-bit"
  },
  "interpreter": {
   "hash": "4cd7ab41f5fca4b9b44701077e38c5ffd31fe66a6cab21e0214b68d958d0e462"
  }
 },
 "nbformat": 4,
 "nbformat_minor": 2
}